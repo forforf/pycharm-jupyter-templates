{
 "cells": [
  {
   "cell_type": "markdown",
   "metadata": {
    "collapsed": false,
    "pycharm": {
     "name": "#%% md\n"
    }
   },
   "source": [
    "# Ignored Markdown from Root\n",
    "\n",
    "## Root Template\n",
    "\n",
    "Start the cell with `#%% nbtplt <cell id> <cell type`\n",
    "\n",
    "For example (remove the leading slash in real code though):\n",
    "\n",
    "```\n",
    "\\#%% nbtplt md-cell-1 md\n",
    "```\n",
    "\n",
    "Any source templates with this cell id will have their data inserted in to this cell.\n",
    "Note that this will replace any existing data in the cell. The only thing different from the root template\n",
    "from a proxy template is that the root template is the last template to be generated.\n",
    "\n",
    "Dev Note: I'm not entirely happy with proxying as it works now. But the key is to keep the templating code\n",
    "simple for now and make it more robust as it becomes necessary.\n",
    "\n",
    "## Cell Types\n",
    "Supported Cell Types:\n",
    "* `md` - Markdown\n",
    "* `code` - Code\n",
    "* blank is implicitly a code cell"
   ]
  },
  {
   "cell_type": "code",
   "execution_count": null,
   "metadata": {
    "collapsed": false,
    "pycharm": {
     "name": "#%% nbtmplt id-is-not-used-but-could-be-in-the-future code\n"
    }
   },
   "outputs": [],
   "source": [
    "print('Code from root')"
   ]
  },
  {
   "cell_type": "code",
   "execution_count": null,
   "metadata": {
    "collapsed": false,
    "nbtplt": {
     "id": "proxy",
     "label": "code"
    },
    "pycharm": {
     "name": "#%% nbtplt proxy code\n"
    }
   },
   "outputs": [],
   "source": [
    "print('Code from proxy template, not the leaf templates')"
   ]
  },
  {
   "cell_type": "markdown",
   "execution_count": null,
   "metadata": {
    "collapsed": false,
    "nbtplt": {
     "id": "md1",
     "label": "md"
    },
    "pycharm": {
     "name": "#%% nbtplt md1 md\n"
    }
   },
   "outputs": [],
   "source": [
    "# Markdown cell from Leaf A1"
   ]
  },
  {
   "cell_type": "code",
   "execution_count": null,
   "metadata": {
    "collapsed": false,
    "nbtplt": {
     "id": "code1",
     "label": "code"
    },
    "pycharm": {
     "name": "#%% nbtplt code1 code\n"
    }
   },
   "outputs": [],
   "source": [
    "print('Explicit code cell from Leaf a1')"
   ]
  },
  {
   "cell_type": "code",
   "execution_count": null,
   "metadata": {
    "collapsed": false,
    "nbtplt": {
     "id": "code2",
     "label": ""
    },
    "pycharm": {
     "name": "#%% nbtplt code2\n"
    }
   },
   "outputs": [],
   "source": [
    "print('Implicit code cell from Leaf a1')"
   ]
  }
 ],
 "metadata": {
  "kernelspec": {
   "display_name": "Python 3",
   "language": "python",
   "name": "python3"
  },
  "language_info": {
   "codemirror_mode": {
    "name": "ipython",
    "version": 2
   },
   "file_extension": ".py",
   "mimetype": "text/x-python",
   "name": "python",
   "nbconvert_exporter": "python",
   "pygments_lexer": "ipython2",
   "version": "2.7.6"
  }
 },
 "nbformat": 4,
 "nbformat_minor": 0
}
