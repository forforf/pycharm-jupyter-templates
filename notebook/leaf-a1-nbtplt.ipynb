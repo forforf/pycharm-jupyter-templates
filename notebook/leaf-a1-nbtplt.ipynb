{
 "cells": [
  {
   "cell_type": "markdown",
   "source": [
    "# Ignored Markdown from Leaf A2\n",
    "\n",
    "## Creating Template Cells in PyCharm\n",
    "\n",
    "Start the cell with `#%% nbtplt <cell id> <cell type>`\n",
    "\n",
    "For example (remove the leading slash in real code though):\n",
    "\n",
    "```\n",
    "\\#%% nbtplt md-cell-1 md\n",
    "```\n",
    "\n",
    "In this case `md-cell-1` is the id and `md` indicates the cell is markdown\n",
    "The id will bind the template input data to the generated document's output.\n",
    "Since the id maps to the generated document output If there are multiple template\n",
    "sources (which is common), then each source will use identical ids to map that source's\n",
    "template input into the generated document.\n",
    "\n",
    "## Cell Types\n",
    "Supported Cell Types:\n",
    "* `md` - Markdown\n",
    "* `code` - Code\n",
    "* blank is implicitly a code cell"
   ],
   "metadata": {
    "collapsed": false,
    "pycharm": {
     "name": "#%% md\n"
    }
   }
  },
  {
   "cell_type": "code",
   "execution_count": null,
   "outputs": [],
   "source": [
    "print('Ignored code from leaf a1')"
   ],
   "metadata": {
    "collapsed": false,
    "pycharm": {
     "name": "#%%\n"
    }
   }
  },
  {
   "cell_type": "code",
   "execution_count": null,
   "outputs": [],
   "source": [
    "# Markdown cell from Leaf A1"
   ],
   "metadata": {
    "collapsed": false,
    "pycharm": {
     "name": "#%% nbtplt md1 md\n"
    }
   }
  },
  {
   "cell_type": "code",
   "execution_count": null,
   "outputs": [],
   "source": [
    "print('Explicit code cell from Leaf a1')"
   ],
   "metadata": {
    "collapsed": false,
    "pycharm": {
     "name": "#%% nbtplt code1 code\n"
    }
   }
  },
  {
   "cell_type": "code",
   "execution_count": null,
   "outputs": [],
   "source": [
    "print('Implicit code cell from Leaf a1')"
   ],
   "metadata": {
    "collapsed": false,
    "pycharm": {
     "name": "#%% nbtplt code2\n"
    }
   }
  }
 ],
 "metadata": {
  "kernelspec": {
   "display_name": "Python 3",
   "language": "python",
   "name": "python3"
  },
  "language_info": {
   "codemirror_mode": {
    "name": "ipython",
    "version": 2
   },
   "file_extension": ".py",
   "mimetype": "text/x-python",
   "name": "python",
   "nbconvert_exporter": "python",
   "pygments_lexer": "ipython2",
   "version": "2.7.6"
  }
 },
 "nbformat": 4,
 "nbformat_minor": 0
}