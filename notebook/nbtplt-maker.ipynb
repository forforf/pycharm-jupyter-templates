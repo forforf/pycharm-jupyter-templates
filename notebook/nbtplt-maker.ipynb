{
 "cells": [
  {
   "cell_type": "code",
   "execution_count": 1,
   "metadata": {
    "collapsed": true,
    "pycharm": {
     "name": "#%%\n"
    }
   },
   "outputs": [],
   "source": [
    "from nbtplt.core import NbTpltChain\n",
    "\n",
    "# Usage\n",
    "# nbchain = NbtpltChain(generated_doc_path_prefix, template_nb_path, source_nb_paths)\n",
    "# nbchain.generate() # to create templated notebook\n",
    "#\n",
    "# Or you can do it without interim variables\n",
    "# NbtpltChain(generated_doc_path_prefix, template_nb_path, source_nb_paths).generate()\n",
    "\n",
    "\n",
    "# Working Example\n",
    "first_chain = NbTpltChain('./generated/ch1-','./proxy-a-nbtplt.ipynb', ['./leaf-a1-nbtplt.ipynb', './leaf-a2-nbtplt.ipynb'])\n",
    "first_chain.generate()\n",
    "\n",
    "second_chain = NbTpltChain('./generated/ch2-', './root-tplt.ipynb',\n",
    "                           ['./generated/ch1-leaf-a1-nbtplt.ipynb',\n",
    "                            './generated/ch1-leaf-a2-nbtplt.ipynb',\n",
    "                            './leaf-b-nbtplt.ipynb'])\n",
    "\n",
    "second_chain.generate()"
   ]
  }
 ],
 "metadata": {
  "kernelspec": {
   "display_name": "Python 3",
   "language": "python",
   "name": "python3"
  },
  "language_info": {
   "codemirror_mode": {
    "name": "ipython",
    "version": 2
   },
   "file_extension": ".py",
   "mimetype": "text/x-python",
   "name": "python",
   "nbconvert_exporter": "python",
   "pygments_lexer": "ipython2",
   "version": "2.7.6"
  }
 },
 "nbformat": 4,
 "nbformat_minor": 0
}