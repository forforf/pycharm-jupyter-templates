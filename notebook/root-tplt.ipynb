{
 "cells": [
  {
   "cell_type": "markdown",
   "source": [
    "# Ignored Markdown from Root\n",
    "\n",
    "## Root Template\n",
    "\n",
    "Start the cell with `#%% nbtplt <cell id> <cell type>`\n",
    "\n",
    "For example (remove the leading slash in real code though):\n",
    "\n",
    "```\n",
    "\\#%% nbtplt md-cell-1 md\n",
    "```\n",
    "\n",
    "Any source templates with this cell id will have their data inserted in to this cell.\n",
    "Note that this will replace any existing data in the cell. The only thing different from the root template\n",
    "from a proxy template is that the root template is the last template to be generated.\n",
    "\n",
    "Dev Note: I'm not entirely happy with proxying as it works now. But the key is to keep the templating code\n",
    "simple for now and make it more robust as it becomes necessary.\n",
    "\n",
    "## Cell Types\n",
    "Supported Cell Types:\n",
    "* `md` - Markdown\n",
    "* `code` - Code\n",
    "* blank is implicitly a code cell"
   ],
   "metadata": {
    "collapsed": false,
    "pycharm": {
     "name": "#%% md\n"
    }
   }
  },
  {
   "cell_type": "code",
   "execution_count": null,
   "outputs": [],
   "source": [
    "print('Code from root')"
   ],
   "metadata": {
    "collapsed": false,
    "pycharm": {
     "name": "#%% nbtmplt id-is-not-used-but-could-be-in-the-future code\n"
    }
   }
  },
  {
   "cell_type": "code",
   "execution_count": null,
   "outputs": [],
   "source": [
    "\"\"\"\n",
    "# Could be replaced\n",
    " If a matching cell id exists in the source notebook\n",
    "\n",
    " Note: This cell only gets replaced if the 'proxy' template is used. It will not be replaced if\n",
    "       a leaf template is used directly.\n",
    "\"\"\""
   ],
   "metadata": {
    "collapsed": false,
    "pycharm": {
     "name": "#%% nbtplt proxy code\n"
    }
   }
  },
  {
   "cell_type": "code",
   "execution_count": null,
   "outputs": [],
   "source": [
    "\"\"\"\n",
    "# Could be replaced\n",
    " If a matching cell id exists in the source notebook\n",
    "\"\"\""
   ],
   "metadata": {
    "collapsed": false,
    "pycharm": {
     "name": "#%% nbtplt md1 md\n"
    }
   }
  },
  {
   "cell_type": "code",
   "execution_count": null,
   "outputs": [],
   "source": [
    "# Could be replaced if a matching cell id exists in the source notebook"
   ],
   "metadata": {
    "collapsed": false,
    "pycharm": {
     "name": "#%% nbtplt code1 code\n"
    }
   }
  },
  {
   "cell_type": "code",
   "execution_count": null,
   "outputs": [],
   "source": [
    "# Could be replaced if a matching cell id exists in the source notebook\n",
    "\n"
   ],
   "metadata": {
    "collapsed": false,
    "pycharm": {
     "name": "#%% nbtplt code2\n"
    }
   }
  }
 ],
 "metadata": {
  "kernelspec": {
   "display_name": "Python 3",
   "language": "python",
   "name": "python3"
  },
  "language_info": {
   "codemirror_mode": {
    "name": "ipython",
    "version": 2
   },
   "file_extension": ".py",
   "mimetype": "text/x-python",
   "name": "python",
   "nbconvert_exporter": "python",
   "pygments_lexer": "ipython2",
   "version": "2.7.6"
  }
 },
 "nbformat": 4,
 "nbformat_minor": 0
}